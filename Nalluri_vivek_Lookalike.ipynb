{
 "cells": [
  {
   "cell_type": "code",
   "execution_count": 2,
   "id": "be185bfa-7c14-489e-8e70-f338f11ff778",
   "metadata": {},
   "outputs": [],
   "source": [
    "# Importing necessary libraries\n",
    "import pandas as pd\n",
    "import numpy as np\n",
    "import matplotlib.pyplot as plt\n",
    "import seaborn as sns\n",
    "from sklearn.preprocessing import StandardScaler\n",
    "from sklearn.metrics.pairwise import cosine_similarity\n",
    "from sklearn.cluster import KMeans\n",
    "from sklearn.decomposition import PCA"
   ]
  },
  {
   "cell_type": "code",
   "execution_count": 3,
   "id": "6acbe55f-7522-461e-9f22-2d03d516e500",
   "metadata": {},
   "outputs": [],
   "source": [
    "# Load datasets\n",
    "customers = pd.read_csv('Customers.csv')\n",
    "products = pd.read_csv('Products.csv')\n",
    "transactions = pd.read_csv('Transactions.csv')"
   ]
  },
  {
   "cell_type": "markdown",
   "id": "99cb726c-6cd2-4b96-9dd9-3809b5da89aa",
   "metadata": {},
   "source": [
    "## Step 2: Lookalike Model"
   ]
  },
  {
   "cell_type": "code",
   "execution_count": 5,
   "id": "2bbe1659-75f5-4134-816c-f19853f7c9e3",
   "metadata": {},
   "outputs": [],
   "source": [
    "# Aggregate features by customer\n",
    "customer_features = transactions.groupby('CustomerID').agg({\n",
    "    'TotalValue': 'sum',\n",
    "    'Quantity': 'sum'\n",
    "}).reset_index()"
   ]
  },
  {
   "cell_type": "code",
   "execution_count": 6,
   "id": "2863b9df-0291-4da2-a0a0-efbeac6373aa",
   "metadata": {},
   "outputs": [],
   "source": [
    "# Normalize data\n",
    "scaler = StandardScaler()\n",
    "normalized_features = scaler.fit_transform(customer_features[['TotalValue', 'Quantity']])"
   ]
  },
  {
   "cell_type": "code",
   "execution_count": null,
   "id": "e6e910d9-e13c-4e0a-80b5-d3b2e5870006",
   "metadata": {},
   "outputs": [],
   "source": []
  },
  {
   "cell_type": "code",
   "execution_count": 7,
   "id": "57f32d35-9032-4651-abf3-df1d0f1ccfaa",
   "metadata": {},
   "outputs": [],
   "source": [
    "# Assuming you have:\n",
    "# - normalized_features: A NumPy array or Pandas DataFrame containing normalized customer features \n",
    "# - customer_features: A Pandas DataFrame containing customer IDs and their features\n",
    "\n",
    "# 1. Calculate Similarity Matrix\n",
    "similarity_matrix = cosine_similarity(normalized_features) \n",
    "\n",
    "# 2. Find Top 3 Similar Customers for Each Customer\n",
    "lookalike_data = [] \n",
    "\n",
    "for idx, row in enumerate(similarity_matrix):\n",
    "    # Get indices of top 3 most similar customers (excluding the customer itself)\n",
    "    # `np.argsort(-row)` sorts the row in descending order and returns indices\n",
    "    # `[1:4]` selects the indices of the 2nd, 3rd, and 4th most similar customers \n",
    "    similar_customer_indices = np.argsort(-row)[1:4] \n",
    "\n",
    "    # Create a dictionary to store information about similar customers\n",
    "    customer_info = {\n",
    "        'CustomerID': customer_features.iloc[idx]['CustomerID'], \n",
    "    }\n",
    "    \n",
    "    # Add information about the top 3 similar customers \n",
    "    for i, similar_customer_idx in enumerate(similar_customer_indices): \n",
    "        similar_customer_id = customer_features.iloc[similar_customer_idx]['CustomerID']\n",
    "        customer_info[f'SimilarCustomer{i+1}'] = similar_customer_id\n",
    "        customer_info[f'Score{i+1}'] = row[similar_customer_idx]\n",
    "\n",
    "    # Append the customer's information to the list\n",
    "    lookalike_data.append(customer_info) \n",
    "\n",
    "# The `lookalike_data` list now contains a dictionary for each customer, \n",
    "# where each dictionary includes the customer's ID and the IDs and similarity scores \n",
    "# of their top 3 most similar customers.\n",
    "\n",
    "# Example usage:\n",
    "# print(lookalike_data[0])  # Print information about the first customer and their lookalikes"
   ]
  },
  {
   "cell_type": "code",
   "execution_count": 8,
   "id": "0f9775e0-9939-4f7e-a898-517607b571e3",
   "metadata": {},
   "outputs": [],
   "source": [
    "# Create DataFrame for output\n",
    "lookalike_df = pd.DataFrame(lookalike_data)\n",
    "lookalike_df.to_csv('Lookalike.csv', index=False)"
   ]
  },
  {
   "cell_type": "code",
   "execution_count": 9,
   "id": "133b5ae9-95e8-403e-8e98-e353b8d1c406",
   "metadata": {},
   "outputs": [
    {
     "data": {
      "text/html": [
       "<div>\n",
       "<style scoped>\n",
       "    .dataframe tbody tr th:only-of-type {\n",
       "        vertical-align: middle;\n",
       "    }\n",
       "\n",
       "    .dataframe tbody tr th {\n",
       "        vertical-align: top;\n",
       "    }\n",
       "\n",
       "    .dataframe thead th {\n",
       "        text-align: right;\n",
       "    }\n",
       "</style>\n",
       "<table border=\"1\" class=\"dataframe\">\n",
       "  <thead>\n",
       "    <tr style=\"text-align: right;\">\n",
       "      <th></th>\n",
       "      <th>CustomerID</th>\n",
       "      <th>SimilarCustomer1</th>\n",
       "      <th>Score1</th>\n",
       "      <th>SimilarCustomer2</th>\n",
       "      <th>Score2</th>\n",
       "      <th>SimilarCustomer3</th>\n",
       "      <th>Score3</th>\n",
       "    </tr>\n",
       "  </thead>\n",
       "  <tbody>\n",
       "    <tr>\n",
       "      <th>0</th>\n",
       "      <td>C0001</td>\n",
       "      <td>C0085</td>\n",
       "      <td>0.999999</td>\n",
       "      <td>C0042</td>\n",
       "      <td>0.999822</td>\n",
       "      <td>C0089</td>\n",
       "      <td>0.999785</td>\n",
       "    </tr>\n",
       "    <tr>\n",
       "      <th>1</th>\n",
       "      <td>C0002</td>\n",
       "      <td>C0157</td>\n",
       "      <td>0.999994</td>\n",
       "      <td>C0166</td>\n",
       "      <td>0.999875</td>\n",
       "      <td>C0029</td>\n",
       "      <td>0.999825</td>\n",
       "    </tr>\n",
       "    <tr>\n",
       "      <th>2</th>\n",
       "      <td>C0003</td>\n",
       "      <td>C0111</td>\n",
       "      <td>0.994008</td>\n",
       "      <td>C0160</td>\n",
       "      <td>0.990455</td>\n",
       "      <td>C0147</td>\n",
       "      <td>0.987638</td>\n",
       "    </tr>\n",
       "    <tr>\n",
       "      <th>3</th>\n",
       "      <td>C0004</td>\n",
       "      <td>C0162</td>\n",
       "      <td>1.000000</td>\n",
       "      <td>C0165</td>\n",
       "      <td>0.999959</td>\n",
       "      <td>C0090</td>\n",
       "      <td>0.998641</td>\n",
       "    </tr>\n",
       "    <tr>\n",
       "      <th>4</th>\n",
       "      <td>C0005</td>\n",
       "      <td>C0080</td>\n",
       "      <td>0.999982</td>\n",
       "      <td>C0167</td>\n",
       "      <td>0.999975</td>\n",
       "      <td>C0177</td>\n",
       "      <td>0.999928</td>\n",
       "    </tr>\n",
       "  </tbody>\n",
       "</table>\n",
       "</div>"
      ],
      "text/plain": [
       "  CustomerID SimilarCustomer1    Score1 SimilarCustomer2    Score2  \\\n",
       "0      C0001            C0085  0.999999            C0042  0.999822   \n",
       "1      C0002            C0157  0.999994            C0166  0.999875   \n",
       "2      C0003            C0111  0.994008            C0160  0.990455   \n",
       "3      C0004            C0162  1.000000            C0165  0.999959   \n",
       "4      C0005            C0080  0.999982            C0167  0.999975   \n",
       "\n",
       "  SimilarCustomer3    Score3  \n",
       "0            C0089  0.999785  \n",
       "1            C0029  0.999825  \n",
       "2            C0147  0.987638  \n",
       "3            C0090  0.998641  \n",
       "4            C0177  0.999928  "
      ]
     },
     "execution_count": 9,
     "metadata": {},
     "output_type": "execute_result"
    }
   ],
   "source": [
    "lookalike_df.head()"
   ]
  },
  {
   "cell_type": "code",
   "execution_count": 10,
   "id": "099ab8d3-37db-4142-b0b8-7e216a04e0d9",
   "metadata": {},
   "outputs": [
    {
     "name": "stdout",
     "output_type": "stream",
     "text": [
      "<class 'pandas.core.frame.DataFrame'>\n",
      "RangeIndex: 199 entries, 0 to 198\n",
      "Data columns (total 7 columns):\n",
      " #   Column            Non-Null Count  Dtype  \n",
      "---  ------            --------------  -----  \n",
      " 0   CustomerID        199 non-null    object \n",
      " 1   SimilarCustomer1  199 non-null    object \n",
      " 2   Score1            199 non-null    float64\n",
      " 3   SimilarCustomer2  199 non-null    object \n",
      " 4   Score2            199 non-null    float64\n",
      " 5   SimilarCustomer3  199 non-null    object \n",
      " 6   Score3            199 non-null    float64\n",
      "dtypes: float64(3), object(4)\n",
      "memory usage: 11.0+ KB\n"
     ]
    }
   ],
   "source": [
    "lookalike_df.info()"
   ]
  }
 ],
 "metadata": {
  "kernelspec": {
   "display_name": "Python 3 (ipykernel)",
   "language": "python",
   "name": "python3"
  },
  "language_info": {
   "codemirror_mode": {
    "name": "ipython",
    "version": 3
   },
   "file_extension": ".py",
   "mimetype": "text/x-python",
   "name": "python",
   "nbconvert_exporter": "python",
   "pygments_lexer": "ipython3",
   "version": "3.11.7"
  }
 },
 "nbformat": 4,
 "nbformat_minor": 5
}
